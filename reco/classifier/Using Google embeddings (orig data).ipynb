{
 "cells": [
  {
   "cell_type": "code",
   "execution_count": 159,
   "metadata": {},
   "outputs": [],
   "source": [
    "import logging\n",
    "logging.root.handlers = []  # Jupyter messes up logging so needs a reset\n",
    "logging.basicConfig(format='%(asctime)s : %(levelname)s : %(message)s', level=logging.INFO)\n",
    "from smart_open import smart_open\n",
    "import pandas as pd\n",
    "import numpy as np\n",
    "from numpy import random\n",
    "import gensim\n",
    "import nltk\n",
    "from sklearn.cross_validation import train_test_split\n",
    "from sklearn import linear_model\n",
    "from sklearn.feature_extraction.text import CountVectorizer, TfidfVectorizer\n",
    "from sklearn.metrics import accuracy_score, confusion_matrix\n",
    "import matplotlib.pyplot as plt\n",
    "from gensim.models import Word2Vec\n",
    "from sklearn.neighbors import KNeighborsClassifier\n",
    "from sklearn import linear_model\n",
    "from nltk.corpus import stopwords\n",
    "import gensim\n",
    "import warnings\n",
    "warnings.filterwarnings(action='ignore', category=UserWarning, module='gensim')\n",
    "from gensim.models import KeyedVectors\n",
    "from sklearn.multiclass import OneVsRestClassifier\n",
    "from sklearn.pipeline import Pipeline\n",
    "from sklearn.svm import LinearSVC\n",
    "from sklearn.svm import SVC\n",
    "from sklearn.model_selection import cross_val_score\n",
    "from sklearn.svm import SVC\n",
    "from sklearn.svm import LinearSVC\n",
    "from sklearn import svm\n",
    "from sklearn.metrics import classification_report\n",
    "from sklearn.metrics import f1_score"
   ]
  },
  {
   "cell_type": "code",
   "execution_count": 136,
   "metadata": {},
   "outputs": [
    {
     "data": {
      "text/plain": [
       "434630"
      ]
     },
     "execution_count": 136,
     "metadata": {},
     "output_type": "execute_result"
    }
   ],
   "source": [
    "df = pd.read_csv('data/Shuffle_Data.csv')\n",
    "df = df.dropna()\n",
    "df['content'].apply(lambda x: len(x.split(' '))).sum()"
   ]
  },
  {
   "cell_type": "code",
   "execution_count": 137,
   "metadata": {},
   "outputs": [],
   "source": [
    "X, y = df['content'], df['tag']\n",
    "X_train, X_test, y_train, y_test = train_test_split(X, y, test_size=0.20, random_state = 42)"
   ]
  },
  {
   "cell_type": "code",
   "execution_count": 138,
   "metadata": {},
   "outputs": [
    {
     "name": "stderr",
     "output_type": "stream",
     "text": [
      "2018-04-18 06:13:28,304 : INFO : loading projection weights from GoogleNews-vectors-negative300.bin\n",
      "2018-04-18 06:13:55,192 : INFO : loaded (1500000, 300) matrix from GoogleNews-vectors-negative300.bin\n",
      "2018-04-18 06:13:57,266 : INFO : precomputing L2-norms of word weight vectors\n"
     ]
    },
    {
     "name": "stdout",
     "output_type": "stream",
     "text": [
      "Wall time: 41.2 s\n"
     ]
    }
   ],
   "source": [
    "%%time \n",
    "wv = KeyedVectors.load_word2vec_format('GoogleNews-vectors-negative300.bin', binary=True,limit=1500000)\n",
    "wv.init_sims(replace=True)"
   ]
  },
  {
   "cell_type": "code",
   "execution_count": 139,
   "metadata": {},
   "outputs": [
    {
     "data": {
      "text/plain": [
       "[('betrayal', 0.6599762439727783),\n",
       " ('duplicity', 0.6232621669769287),\n",
       " ('perfidy', 0.5984146595001221),\n",
       " ('deceit', 0.586785614490509),\n",
       " ('cowardice', 0.5809214115142822),\n",
       " ('betrayals', 0.5602282285690308),\n",
       " ('barbarity', 0.5583377480506897),\n",
       " ('unscrupulousness', 0.5564166903495789),\n",
       " ('wickedness', 0.5546039342880249),\n",
       " ('skulduggery', 0.5511748790740967)]"
      ]
     },
     "execution_count": 139,
     "metadata": {},
     "output_type": "execute_result"
    }
   ],
   "source": [
    "word1 = \"treachery\"\n",
    "wv.most_similar (positive=word1)"
   ]
  },
  {
   "cell_type": "code",
   "execution_count": 140,
   "metadata": {},
   "outputs": [],
   "source": [
    "def word_averaging(wv, words):\n",
    "    all_words, mean = set(), []\n",
    "    \n",
    "    for word in words:\n",
    "        if isinstance(word, np.ndarray):\n",
    "            mean.append(word)\n",
    "        elif word in wv.vocab:\n",
    "            mean.append(wv.vectors_norm[wv.vocab[word].index])\n",
    "            all_words.add(wv.vocab[word].index)\n",
    "\n",
    "    if not mean:\n",
    "        logging.warning(\"cannot compute similarity with no input %s\", words)\n",
    "        # FIXME: remove these examples in pre-processing\n",
    "        return np.zeros(wv.layer1_size,)\n",
    "\n",
    "    mean = gensim.matutils.unitvec(np.array(mean).mean(axis=0)).astype(np.float32)\n",
    "    return mean\n",
    "\n",
    "def  word_averaging_list(wv, text_list):\n",
    "    return np.vstack([word_averaging(wv, review) for review in text_list ])"
   ]
  },
  {
   "cell_type": "code",
   "execution_count": 141,
   "metadata": {},
   "outputs": [],
   "source": [
    "def w2v_tokenize_text(text):\n",
    "    tokens = []\n",
    "    for sent in nltk.sent_tokenize(text, language='english'):\n",
    "        for word in nltk.word_tokenize(sent, language='english'):\n",
    "            if len(word) < 2:\n",
    "                continue\n",
    "            tokens.append(word)\n",
    "    return tokens"
   ]
  },
  {
   "cell_type": "code",
   "execution_count": 142,
   "metadata": {},
   "outputs": [],
   "source": [
    "test_tokenized = X_test.to_frame().apply(lambda r: w2v_tokenize_text(r['content']), axis=1).values\n",
    "train_tokenized = X_train.to_frame().apply(lambda r: w2v_tokenize_text(r['content']), axis=1).values"
   ]
  },
  {
   "cell_type": "code",
   "execution_count": 143,
   "metadata": {},
   "outputs": [],
   "source": [
    "X_train_word_average = word_averaging_list(wv,train_tokenized)\n",
    "X_test_word_average = word_averaging_list(wv,test_tokenized)"
   ]
  },
  {
   "cell_type": "code",
   "execution_count": 144,
   "metadata": {},
   "outputs": [
    {
     "name": "stdout",
     "output_type": "stream",
     "text": [
      "Accuracy using SVM with 5 cross validation : 71.35%\n"
     ]
    }
   ],
   "source": [
    "clf = OneVsRestClassifier(LinearSVC(C=15)) # C=1.0, max_iter=1000\n",
    "\n",
    "score = cross_val_score(clf, X_train_word_average,  y_train.to_frame()['tag'], cv=5)\n",
    "\n",
    "# print((train_data_features))\n",
    "# print((y_train))\n",
    "# print (score)\n",
    "cv = np.mean(score)\n",
    "print (\"Accuracy using SVM with 5 cross validation : {}%\".format(round(cv*100,2)))"
   ]
  },
  {
   "cell_type": "code",
   "execution_count": 145,
   "metadata": {},
   "outputs": [
    {
     "data": {
      "text/plain": [
       "OneVsRestClassifier(estimator=LinearSVC(C=15, class_weight=None, dual=True, fit_intercept=True,\n",
       "     intercept_scaling=1, loss='squared_hinge', max_iter=1000,\n",
       "     multi_class='ovr', penalty='l2', random_state=None, tol=0.0001,\n",
       "     verbose=0),\n",
       "          n_jobs=1)"
      ]
     },
     "execution_count": 145,
     "metadata": {},
     "output_type": "execute_result"
    }
   ],
   "source": [
    "clf.fit(X_train_word_average, y_train.to_frame()['tag'])"
   ]
  },
  {
   "cell_type": "markdown",
   "metadata": {},
   "source": [
    "## testing eval"
   ]
  },
  {
   "cell_type": "code",
   "execution_count": 146,
   "metadata": {},
   "outputs": [
    {
     "name": "stdout",
     "output_type": "stream",
     "text": [
      "0.803921568627451\n"
     ]
    }
   ],
   "source": [
    "pred = clf.predict(X_test_word_average)\n",
    "accuracy = clf.score(X_test_word_average,y_test.to_frame().tag)\n",
    "print (accuracy)"
   ]
  },
  {
   "cell_type": "code",
   "execution_count": 147,
   "metadata": {},
   "outputs": [],
   "source": [
    "X_testArray = X_test.values\n",
    "y_testArray = y_test.values"
   ]
  },
  {
   "cell_type": "code",
   "execution_count": 148,
   "metadata": {},
   "outputs": [
    {
     "name": "stdout",
     "output_type": "stream",
     "text": [
      "[[12  5  0]\n",
      " [ 2 18  1]\n",
      " [ 1  1 11]]\n"
     ]
    }
   ],
   "source": [
    "# row : actual :: column : predicted \n",
    "cf = confusion_matrix(y_testArray,pred)\n",
    "print (cf)"
   ]
  },
  {
   "cell_type": "code",
   "execution_count": 150,
   "metadata": {},
   "outputs": [],
   "source": [
    "#  total classes\n",
    "from __future__ import division"
   ]
  },
  {
   "cell_type": "code",
   "execution_count": 163,
   "metadata": {},
   "outputs": [],
   "source": [
    "total = 3\n",
    "classes = {0:'Homicide', 1:'Parricide', 2:'Murder'}\n",
    "category = 0"
   ]
  },
  {
   "cell_type": "code",
   "execution_count": 164,
   "metadata": {},
   "outputs": [],
   "source": [
    "TrueP = []\n",
    "FalseN = []\n",
    "FalseP = []\n",
    "TrueN = []\n",
    "\n",
    "pre = 0\n",
    "rec = 0"
   ]
  },
  {
   "cell_type": "code",
   "execution_count": 165,
   "metadata": {},
   "outputs": [
    {
     "name": "stdout",
     "output_type": "stream",
     "text": [
      "Homicide\n",
      "12 5 3 31\n",
      "Precision:  0.8\n",
      "Recall:  0.7058823529411765\n",
      "\n",
      "\n",
      "Parricide\n",
      "18 3 6 24\n",
      "Precision:  0.75\n",
      "Recall:  0.8571428571428571\n",
      "\n",
      "\n",
      "Murder\n",
      "11 2 1 37\n",
      "Precision:  0.9166666666666666\n",
      "Recall:  0.8461538461538461\n",
      "\n",
      "\n",
      "pre:  0.8222222222222223\n",
      "rec: 0.8030596854126265\n"
     ]
    }
   ],
   "source": [
    "for category in range(total):\n",
    "    TP = FN = FP = TN = 0 \n",
    "    for i in range(total):\n",
    "        for j in range(total):\n",
    "            if i==category and j==category:\n",
    "                TP += cf[i][j]\n",
    "            elif i==category and j!=category:\n",
    "                FN += cf[i][j]\n",
    "            elif i!=category and j==category:\n",
    "                FP += cf[i][j]\n",
    "            else:\n",
    "                TN += cf[i][j]\n",
    "    print (classes.get(category))\n",
    "    print (TP, FN, FP, TN)\n",
    "    print (\"Precision: \" , TP/(TP+FP))\n",
    "    print (\"Recall: \" , TP/(TP+FN))\n",
    "    print (\"\\n\")\n",
    "    TrueP.append(TP)\n",
    "    FalseN.append(FN)\n",
    "    FalseP.append(FP)\n",
    "    TrueN.append(TN)\n",
    "    pre += (TP/(TP+FP))\n",
    "    rec += TP/(TP+FN)\n",
    "\n",
    "print (\"pre: \", pre/3)\n",
    "print (\"rec:\", rec/3)\n",
    "    \n",
    "# Average confusion matrix for all classes\n",
    "TP = np.sum(TrueP)\n",
    "FN = np.sum(FalseN)\n",
    "FP = np.sum(FalseP)\n",
    "TN = np.sum(TrueN)  \n",
    "\n",
    "# print  (\"\",  TP, FN, FP, TN, ((TP+TN)/(TP+TN+FP+FN)))"
   ]
  },
  {
   "cell_type": "code",
   "execution_count": 166,
   "metadata": {},
   "outputs": [
    {
     "name": "stdout",
     "output_type": "stream",
     "text": [
      "[0.75 0.8  0.88]\n",
      "\n",
      "\n",
      "0.8099999999999999\n"
     ]
    }
   ],
   "source": [
    "# calculate f-score for each category\n",
    "f1 = f1_score(y_testArray,pred, average=None)\n",
    "\n",
    "print (f1)\n",
    "print (\"\\n\")\n",
    "print (np.sum(f1)/3)"
   ]
  },
  {
   "cell_type": "code",
   "execution_count": 167,
   "metadata": {},
   "outputs": [
    {
     "name": "stdout",
     "output_type": "stream",
     "text": [
      "F-score\n",
      "-----\n",
      "Weighted:  0.8037254901960783\n",
      "Micro:  0.8039215686274509\n",
      "Macro:  0.8099999999999999\n"
     ]
    }
   ],
   "source": [
    "# calculate f-score for all \n",
    "print (\"F-score\\n-----\")\n",
    "print (\"Weighted: \", f1_score(y_testArray,pred, average='weighted'))\n",
    "print (\"Micro: \", f1_score(y_testArray,pred, average='micro'))\n",
    "print (\"Macro: \", f1_score(y_testArray,pred, average='macro'))"
   ]
  },
  {
   "cell_type": "code",
   "execution_count": 168,
   "metadata": {},
   "outputs": [
    {
     "name": "stdout",
     "output_type": "stream",
     "text": [
      "             precision    recall  f1-score   support\n",
      "\n",
      "   Homicide       0.80      0.71      0.75        17\n",
      "  Parricide       0.75      0.86      0.80        21\n",
      "     Murder       0.92      0.85      0.88        13\n",
      "\n",
      "avg / total       0.81      0.80      0.80        51\n",
      "\n"
     ]
    }
   ],
   "source": [
    "target_names = ['Homicide', 'Parricide', 'Murder']\n",
    "print(classification_report(y_testArray, pred, target_names=target_names))"
   ]
  },
  {
   "cell_type": "markdown",
   "metadata": {},
   "source": [
    "## hidden data"
   ]
  },
  {
   "cell_type": "code",
   "execution_count": 169,
   "metadata": {},
   "outputs": [
    {
     "data": {
      "text/plain": [
       "array(['parricide'], dtype='<U9')"
      ]
     },
     "execution_count": 169,
     "metadata": {},
     "output_type": "execute_result"
    }
   ],
   "source": [
    "words1 = \"Burlington 12-year-old Accused of killing two parents and wounding two siblings. Charged as a juvenile.\".lower()\n",
    "toks = w2v_tokenize_text(words1)\n",
    "word_average = word_averaging(wv,toks)\n",
    "clf.predict([word_average])"
   ]
  },
  {
   "cell_type": "code",
   "execution_count": null,
   "metadata": {},
   "outputs": [],
   "source": []
  }
 ],
 "metadata": {
  "kernelspec": {
   "display_name": "Python 3",
   "language": "python",
   "name": "python3"
  },
  "language_info": {
   "codemirror_mode": {
    "name": "ipython",
    "version": 3
   },
   "file_extension": ".py",
   "mimetype": "text/x-python",
   "name": "python",
   "nbconvert_exporter": "python",
   "pygments_lexer": "ipython3",
   "version": "3.5.2"
  }
 },
 "nbformat": 4,
 "nbformat_minor": 2
}
